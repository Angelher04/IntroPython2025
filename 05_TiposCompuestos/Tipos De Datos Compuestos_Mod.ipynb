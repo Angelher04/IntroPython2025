{
 "cells": [
  {
   "cell_type": "markdown",
   "metadata": {},
   "source": [
    "# Listas, tuplas y diccionarios\n",
    "\n",
    "\n",
    "Tanto las tuplas, como listas y diccionarios, **son una forma de almacenar varios datos diferentes, de diversos tipos (cadenas de texto, enteros, flotantes, booleanos…) en una misma variable.**\n",
    "\n",
    "**El orden en el cual estos datos se especifican dentro de la variable, se denomina índice**, teniendo **el primer dato** un **índice 0 (cero)**, el siguiente 1, y así incrementalmente.\n",
    "\n",
    "Veamos estos tres nuevos tipos de datos en detalle:"
   ]
  },
  {
   "cell_type": "code",
   "execution_count": 2,
   "metadata": {},
   "outputs": [
    {
     "name": "stdout",
     "output_type": "stream",
     "text": [
      "[1, 2, 'sasd', 3.5]\n",
      "(5, 6, 'qwe', 7.8)\n",
      "{9, 10, 11.12, 'ert'}\n",
      "{'a': 1, 'b': 2, 'c': 3, 'd': 4}\n"
     ]
    }
   ],
   "source": [
    "a=[1,2,\"sasd\",3.5]\n",
    "b=(5,6,\"qwe\",7.8)\n",
    "c={9,10,\"ert\",11.12}\n",
    "d={\"a\":1,\"b\":2,\"c\":3,\"d\":4}\n",
    "print(a)\n",
    "print(b)\n",
    "print(c)\n",
    "print(d)\n"
   ]
  },
  {
   "cell_type": "markdown",
   "metadata": {},
   "source": [
    "# Tuplas\n"
   ]
  },
  {
   "cell_type": "code",
   "execution_count": null,
   "metadata": {},
   "outputs": [
    {
     "data": {
      "text/plain": [
       "7"
      ]
     },
     "execution_count": 8,
     "metadata": {},
     "output_type": "execute_result"
    }
   ],
   "source": [
    "#se inician con ()\n",
    "a=(1,2,3,\"sdsasd\",4,5,\"dsa\")\n",
    "a,type(a)\n",
    "len(a)   #longitud de la tupla\n",
    "a[len(a)-1] #ultimo elemento de la tupla"
   ]
  },
  {
   "cell_type": "markdown",
   "metadata": {},
   "source": [
    "### Las tuplas son secuencias, igual que las cadenas, y se puede utilizar la misma notación de índices que en las cadenas para obtener cada una de sus componentes."
   ]
  },
  {
   "cell_type": "code",
   "execution_count": null,
   "metadata": {},
   "outputs": [],
   "source": []
  },
  {
   "cell_type": "code",
   "execution_count": null,
   "metadata": {},
   "outputs": [],
   "source": []
  },
  {
   "cell_type": "code",
   "execution_count": null,
   "metadata": {},
   "outputs": [],
   "source": []
  },
  {
   "cell_type": "code",
   "execution_count": null,
   "metadata": {},
   "outputs": [],
   "source": []
  },
  {
   "cell_type": "markdown",
   "metadata": {},
   "source": [
    "# Nota:  <font color=\"#8A0829\">Las tuplas son inmutables. </font>\n",
    "## <font color=\"#8A0829\"> Los datos contenidos en una tupla no pueden modificarse. </font>"
   ]
  },
  {
   "cell_type": "code",
   "execution_count": null,
   "metadata": {},
   "outputs": [],
   "source": []
  },
  {
   "cell_type": "markdown",
   "metadata": {},
   "source": [
    "# Longitud de tuplas\n",
    "\n",
    "Se les puede aplicar la función **len()** para calcular su longitud. Esta función nos indica cuántas componentes tiene esa tupla."
   ]
  },
  {
   "cell_type": "code",
   "execution_count": null,
   "metadata": {},
   "outputs": [],
   "source": [
    "  tupla_a "
   ]
  },
  {
   "cell_type": "markdown",
   "metadata": {},
   "source": [
    "# Empaquetado de tuplas\n",
    "\n",
    "Si a una variable se le asigna una secuencia de valores separados por comas, el valor de esa variable será la tupla formada por todos los valores asignados.\n",
    "\n",
    "A esta operación se la denomina **empaquetado de tuplas**."
   ]
  },
  {
   "cell_type": "code",
   "execution_count": 11,
   "metadata": {},
   "outputs": [
    {
     "name": "stdout",
     "output_type": "stream",
     "text": [
      "('pan', 'leche', 100)  es  <class 'tuple'>\n"
     ]
    }
   ],
   "source": [
    "a='pan'\n",
    "b=\"leche\"\n",
    "c=100\n",
    "\n",
    "tupla_b = a,b,c\n",
    "print (tupla_b,\" es \",type(tupla_b))"
   ]
  },
  {
   "cell_type": "markdown",
   "metadata": {},
   "source": [
    "# Desempaquetado de tuplas"
   ]
  },
  {
   "cell_type": "markdown",
   "metadata": {},
   "source": [
    "Si se tiene una tupla de longitud i, se puede asignar la tupla a i variables distintas y en cada variable quedará una de las componentes de la tupla. \n",
    "\n",
    "A esta operación se la denomina **desempaquetado de tuplas.**"
   ]
  },
  {
   "cell_type": "code",
   "execution_count": 13,
   "metadata": {},
   "outputs": [
    {
     "name": "stdout",
     "output_type": "stream",
     "text": [
      "pan leche 100\n"
     ]
    }
   ],
   "source": [
    "c,b,a = (100,\"leche\",\"pan\")\n",
    "print (a,b,c)"
   ]
  },
  {
   "cell_type": "code",
   "execution_count": 26,
   "metadata": {},
   "outputs": [
    {
     "ename": "ValueError",
     "evalue": "too many values to unpack (expected 2)",
     "output_type": "error",
     "traceback": [
      "\u001b[1;31m---------------------------------------------------------------------------\u001b[0m",
      "\u001b[1;31mValueError\u001b[0m                                Traceback (most recent call last)",
      "Cell \u001b[1;32mIn[26], line 1\u001b[0m\n\u001b[1;32m----> 1\u001b[0m c,b\u001b[38;5;241m=\u001b[39m tupla_b\n",
      "\u001b[1;31mValueError\u001b[0m: too many values to unpack (expected 2)"
     ]
    }
   ],
   "source": [
    "c,b= tupla_b"
   ]
  },
  {
   "cell_type": "code",
   "execution_count": 27,
   "metadata": {},
   "outputs": [
    {
     "ename": "ValueError",
     "evalue": "not enough values to unpack (expected 4, got 3)",
     "output_type": "error",
     "traceback": [
      "\u001b[1;31m---------------------------------------------------------------------------\u001b[0m",
      "\u001b[1;31mValueError\u001b[0m                                Traceback (most recent call last)",
      "Cell \u001b[1;32mIn[27], line 1\u001b[0m\n\u001b[1;32m----> 1\u001b[0m d,c,b,a \u001b[38;5;241m=\u001b[39m tupla_b\n",
      "\u001b[1;31mValueError\u001b[0m: not enough values to unpack (expected 4, got 3)"
     ]
    }
   ],
   "source": [
    "d,c,b,a = tupla_b"
   ]
  },
  {
   "cell_type": "code",
   "execution_count": 25,
   "metadata": {},
   "outputs": [
    {
     "name": "stdout",
     "output_type": "stream",
     "text": [
      "('pan', 'leche', 100)\n",
      "100\n"
     ]
    }
   ],
   "source": [
    "print (tupla_b)\n",
    "b,b,b = tupla_b\n",
    "print (b)"
   ]
  },
  {
   "cell_type": "code",
   "execution_count": 28,
   "metadata": {},
   "outputs": [
    {
     "data": {
      "text/plain": [
       "(('pan', 'leche', 100, 1234, True, 234.3),\n",
       " ('pan', 'leche', 100, 1234, True, 234.3),\n",
       " tuple,\n",
       " tuple)"
      ]
     },
     "execution_count": 28,
     "metadata": {},
     "output_type": "execute_result"
    }
   ],
   "source": [
    "leche=\"leche\"\n",
    "tupla_a = 'pan', leche, 100, 1234, True, 234.3\n",
    "lista_a = 'pan', 'leche', 100, 1234, True, 234.3\n",
    "tupla_a,lista_a,type(tupla_a),type(lista_a)"
   ]
  },
  {
   "cell_type": "code",
   "execution_count": 24,
   "metadata": {},
   "outputs": [
    {
     "data": {
      "text/plain": [
       "('pan', 'leche', 100, 1234, True, 234.3)"
      ]
     },
     "execution_count": 24,
     "metadata": {},
     "output_type": "execute_result"
    }
   ],
   "source": [
    "lista_a"
   ]
  },
  {
   "cell_type": "code",
   "execution_count": 20,
   "metadata": {},
   "outputs": [
    {
     "data": {
      "text/plain": [
       "((1, 2), (4, 5), (6, 7))"
      ]
     },
     "execution_count": 20,
     "metadata": {},
     "output_type": "execute_result"
    }
   ],
   "source": [
    "x,y,z =((1,2),(4,5),(6,7))\n",
    "x,y,z"
   ]
  },
  {
   "cell_type": "code",
   "execution_count": 22,
   "metadata": {},
   "outputs": [
    {
     "name": "stdout",
     "output_type": "stream",
     "text": [
      "2\n",
      "5\n",
      "sda\n"
     ]
    }
   ],
   "source": [
    "puntos=((1,2),(4,5,5,4,3,5),(6,7,\"sda\"))\n",
    "for p in puntos:\n",
    "    print(p[-1])"
   ]
  },
  {
   "cell_type": "markdown",
   "metadata": {},
   "source": [
    "# Listas\n",
    "\n",
    "Usaremos listas para poder modelar datos compuestos pero **cuya cantidad y valor varían a lo largo del tiempo**. \n",
    "\n",
    "<font color=\"#8A0829\"> **Son secuencias mutables** </font>  y vienen dotadas de una variedad de operaciones muy útiles.\n",
    "\n"
   ]
  },
  {
   "cell_type": "code",
   "execution_count": 29,
   "metadata": {},
   "outputs": [
    {
     "name": "stdout",
     "output_type": "stream",
     "text": [
      "['pan', 'leche', 100, 1234, True, 234.3]\n"
     ]
    }
   ],
   "source": [
    "lista_a = ['pan', 'leche', 100, 1234, True, 234.3]\n",
    "print (lista_a)"
   ]
  },
  {
   "cell_type": "code",
   "execution_count": 30,
   "metadata": {},
   "outputs": [
    {
     "data": {
      "text/plain": [
       "'pan'"
      ]
     },
     "execution_count": 30,
     "metadata": {},
     "output_type": "execute_result"
    }
   ],
   "source": [
    "lista_a[0]"
   ]
  },
  {
   "cell_type": "code",
   "execution_count": 31,
   "metadata": {},
   "outputs": [
    {
     "data": {
      "text/plain": [
       "234.3"
      ]
     },
     "execution_count": 31,
     "metadata": {},
     "output_type": "execute_result"
    }
   ],
   "source": [
    "lista_a[-1]"
   ]
  },
  {
   "cell_type": "code",
   "execution_count": null,
   "metadata": {},
   "outputs": [],
   "source": [
    "lista_a"
   ]
  },
  {
   "cell_type": "markdown",
   "metadata": {},
   "source": [
    "# Cómo mutar listas\n",
    "\n",
    "Dijimos antes que las listas son secuencias mutables. \n",
    "\n",
    "Para lograr la mutabilidad Python provee operaciones que nos permiten **cambiarle valores, agregarle valores y quitarle valores.**"
   ]
  },
  {
   "cell_type": "code",
   "execution_count": 32,
   "metadata": {},
   "outputs": [
    {
     "name": "stdout",
     "output_type": "stream",
     "text": [
      "['pan', 'leche', 100, 1234, True, 234.3]\n",
      "['pan', 'leche', 100, 1234, True, 234.3, 'nuevo elemento']\n"
     ]
    }
   ],
   "source": [
    "print (lista_a)\n",
    "lista_a.append(\"nuevo elemento\")\n",
    "print (lista_a)"
   ]
  },
  {
   "cell_type": "code",
   "execution_count": 33,
   "metadata": {},
   "outputs": [
    {
     "name": "stdout",
     "output_type": "stream",
     "text": [
      "['pan', 'leche', 100, 1234, True, 234.3, 'nuevo elemento', 'otro elemento']\n"
     ]
    }
   ],
   "source": [
    "lista_a.append(\"otro elemento\")\n",
    "print (lista_a)"
   ]
  },
  {
   "cell_type": "code",
   "execution_count": 34,
   "metadata": {},
   "outputs": [
    {
     "name": "stdout",
     "output_type": "stream",
     "text": [
      "['pan', 'leche', 'nuevo elemento', 100, 1234, True, 234.3, 'nuevo elemento', 'otro elemento']\n"
     ]
    }
   ],
   "source": [
    "lista_a.insert(2, \"nuevo elemento\")\n",
    "print (lista_a)"
   ]
  },
  {
   "cell_type": "code",
   "execution_count": 35,
   "metadata": {},
   "outputs": [
    {
     "name": "stdout",
     "output_type": "stream",
     "text": [
      "['pan', 'leche', 100, 1234, True, 234.3, 'nuevo elemento', 'otro elemento']\n"
     ]
    }
   ],
   "source": [
    "lista_a.remove(\"nuevo elemento\")\n",
    "print (lista_a)"
   ]
  },
  {
   "cell_type": "code",
   "execution_count": 36,
   "metadata": {},
   "outputs": [
    {
     "name": "stdout",
     "output_type": "stream",
     "text": [
      "['pan', 'leche', 100, 1234, True, 234.3, 'nuevo elemento', 'otro elemento']\n"
     ]
    }
   ],
   "source": [
    "print (lista_a)"
   ]
  },
  {
   "cell_type": "code",
   "execution_count": 37,
   "metadata": {},
   "outputs": [
    {
     "name": "stdout",
     "output_type": "stream",
     "text": [
      "['pan', 'leche', 1234, True, 234.3, 'nuevo elemento', 'otro elemento']\n"
     ]
    }
   ],
   "source": [
    "del lista_a[2]\n",
    "print (lista_a)"
   ]
  },
  {
   "cell_type": "code",
   "execution_count": 38,
   "metadata": {},
   "outputs": [
    {
     "name": "stdout",
     "output_type": "stream",
     "text": [
      "['pan', 'leche', 'nuevo elemento', 'otro elemento']\n"
     ]
    }
   ],
   "source": [
    "del lista_a[2:5]\n",
    "print (lista_a)"
   ]
  },
  {
   "cell_type": "code",
   "execution_count": 39,
   "metadata": {},
   "outputs": [
    {
     "name": "stdout",
     "output_type": "stream",
     "text": [
      "['pan', 'leche', 'nuevo elemento', 'otro elemento', 'inicio']\n"
     ]
    },
    {
     "data": {
      "text/plain": [
       "['pan', 'leche', 'nuevo elemento', 'otro elemento', 'inicio']"
      ]
     },
     "execution_count": 39,
     "metadata": {},
     "output_type": "execute_result"
    }
   ],
   "source": [
    "lista_a.insert(5, \"inicio\")\n",
    "print (lista_a)\n",
    "lista_a"
   ]
  },
  {
   "cell_type": "code",
   "execution_count": null,
   "metadata": {},
   "outputs": [],
   "source": [
    "lista_a"
   ]
  },
  {
   "cell_type": "code",
   "execution_count": null,
   "metadata": {},
   "outputs": [],
   "source": [
    "print (lista_a)\n"
   ]
  },
  {
   "cell_type": "code",
   "execution_count": null,
   "metadata": {},
   "outputs": [],
   "source": [
    "lista_a"
   ]
  },
  {
   "cell_type": "code",
   "execution_count": null,
   "metadata": {},
   "outputs": [],
   "source": [
    "lista_a"
   ]
  },
  {
   "cell_type": "code",
   "execution_count": null,
   "metadata": {},
   "outputs": [],
   "source": [
    "# Hay una manera de quitar un ítem de una lista dado su índice en lugar de su valor\n",
    "\n",
    "print (lista_a)"
   ]
  },
  {
   "cell_type": "code",
   "execution_count": null,
   "metadata": {},
   "outputs": [],
   "source": [
    "lista_b = \n",
    "print (lista_b)\n",
    "lista_b\n",
    "print (lista_b)\n",
    "lista_b\n",
    "print (lista_b)\n"
   ]
  },
  {
   "cell_type": "code",
   "execution_count": null,
   "metadata": {},
   "outputs": [],
   "source": []
  },
  {
   "cell_type": "markdown",
   "metadata": {},
   "source": [
    "# Longitud de listas\n",
    "\n",
    "Se les puede aplicar la función **len()** para calcular su longitud. Esta función nos indica cuántas componentes tiene esa lista."
   ]
  },
  {
   "cell_type": "code",
   "execution_count": 40,
   "metadata": {},
   "outputs": [
    {
     "data": {
      "text/plain": [
       "5"
      ]
     },
     "execution_count": 40,
     "metadata": {},
     "output_type": "execute_result"
    }
   ],
   "source": [
    "len(lista_a)"
   ]
  },
  {
   "cell_type": "markdown",
   "metadata": {},
   "source": [
    "# Conversión de tipos"
   ]
  },
  {
   "cell_type": "code",
   "execution_count": 41,
   "metadata": {},
   "outputs": [
    {
     "name": "stdout",
     "output_type": "stream",
     "text": [
      "(1, 2, 3, 4)\n"
     ]
    },
    {
     "data": {
      "text/plain": [
       "[1, 2, 3, 4]"
      ]
     },
     "execution_count": 41,
     "metadata": {},
     "output_type": "execute_result"
    }
   ],
   "source": [
    "tupla = 1, 2, 3, 4  #tupla sin parentisis o () es lo mismo\n",
    "print (tupla)\n",
    "list(tupla)"
   ]
  },
  {
   "cell_type": "code",
   "execution_count": null,
   "metadata": {},
   "outputs": [],
   "source": [
    "list(tupla)"
   ]
  },
  {
   "cell_type": "code",
   "execution_count": 44,
   "metadata": {},
   "outputs": [],
   "source": [
    "lista = [1, 2, 3, 4]"
   ]
  },
  {
   "cell_type": "code",
   "execution_count": 45,
   "metadata": {},
   "outputs": [
    {
     "data": {
      "text/plain": [
       "(1, 2, 3, 4)"
      ]
     },
     "execution_count": 45,
     "metadata": {},
     "output_type": "execute_result"
    }
   ],
   "source": [
    "tuple(lista) "
   ]
  },
  {
   "cell_type": "markdown",
   "metadata": {},
   "source": [
    "# En Python, las listas, las tuplas y las cadenas son parte del conjunto de las secuencias. Todas las secuencias cuentan con las siguientes operaciones:"
   ]
  },
  {
   "cell_type": "code",
   "execution_count": 48,
   "metadata": {},
   "outputs": [],
   "source": [
    "tupla_a = 'pan', 'leche', 100, 1234, True, 234.3 # tupla\n",
    "lista_a = 'pan', 'leche', 100, 1234, True, 234.3 # lista\n",
    "string_a = 'pan leche 100 1235 True 234.3' #cadena"
   ]
  },
  {
   "cell_type": "code",
   "execution_count": 49,
   "metadata": {},
   "outputs": [
    {
     "data": {
      "text/plain": [
       "('pan', 'pan', 'pan leche 100 1235 ')"
      ]
     },
     "execution_count": 49,
     "metadata": {},
     "output_type": "execute_result"
    }
   ],
   "source": [
    "tupla_a[0],lista_a[0],string_a[0:-10]"
   ]
  },
  {
   "cell_type": "markdown",
   "metadata": {},
   "source": [
    "# Operandor <font color = \"red\"> in </font>\n",
    "\n",
    "Ej. X **in** Y  \n",
    "\n",
    "Indica si la variable X se encuentra en Y"
   ]
  },
  {
   "cell_type": "code",
   "execution_count": 50,
   "metadata": {},
   "outputs": [
    {
     "data": {
      "text/plain": [
       "True"
      ]
     },
     "execution_count": 50,
     "metadata": {},
     "output_type": "execute_result"
    }
   ],
   "source": [
    "\"leche\" in  tupla_a"
   ]
  },
  {
   "cell_type": "code",
   "execution_count": 51,
   "metadata": {},
   "outputs": [
    {
     "data": {
      "text/plain": [
       "True"
      ]
     },
     "execution_count": 51,
     "metadata": {},
     "output_type": "execute_result"
    }
   ],
   "source": [
    "\"leche\" in lista_a"
   ]
  },
  {
   "cell_type": "code",
   "execution_count": 52,
   "metadata": {},
   "outputs": [
    {
     "data": {
      "text/plain": [
       "True"
      ]
     },
     "execution_count": 52,
     "metadata": {},
     "output_type": "execute_result"
    }
   ],
   "source": [
    "\"leche\" in  string_a"
   ]
  },
  {
   "cell_type": "markdown",
   "metadata": {},
   "source": [
    "# Concantena las secuencias X y Y\n",
    "\n",
    "Ej. X + Y "
   ]
  },
  {
   "cell_type": "code",
   "execution_count": 57,
   "metadata": {},
   "outputs": [
    {
     "name": "stdout",
     "output_type": "stream",
     "text": [
      "('pan', 'leche', 100, 1234, True, 234.3, 'pan', 'leche', 100, 1234, True, 234.3)\n",
      "['pan', 'leche', 100, 1234, True, 234.3, 'pan', 'leche', 100, 1234, True, 234.3]\n"
     ]
    }
   ],
   "source": [
    "tupla_a = ('pan', 'leche', 100, 1234, True, 234.3) # tupla\n",
    "lista_a = ['pan', 'leche', 100, 1234, True, 234.3] # lista\n",
    "\n",
    "print(tupla_a + tuple(lista_a))#no se pueden juntar tuplas con listas\n",
    "print(list(tupla_a) + lista_a)"
   ]
  },
  {
   "cell_type": "code",
   "execution_count": 58,
   "metadata": {},
   "outputs": [
    {
     "data": {
      "text/plain": [
       "('pan',\n",
       " 'leche',\n",
       " 100,\n",
       " 1234,\n",
       " True,\n",
       " 234.3,\n",
       " 'pan',\n",
       " 'leche',\n",
       " 100,\n",
       " 1234,\n",
       " True,\n",
       " 234.3)"
      ]
     },
     "execution_count": 58,
     "metadata": {},
     "output_type": "execute_result"
    }
   ],
   "source": [
    "a= tupla_a + tupla_a\n",
    "a"
   ]
  },
  {
   "cell_type": "code",
   "execution_count": 59,
   "metadata": {},
   "outputs": [
    {
     "data": {
      "text/plain": [
       "['pan',\n",
       " 'leche',\n",
       " 100,\n",
       " 1234,\n",
       " True,\n",
       " 234.3,\n",
       " 'pan',\n",
       " 'leche',\n",
       " 100,\n",
       " 1234,\n",
       " True,\n",
       " 234.3]"
      ]
     },
     "execution_count": 59,
     "metadata": {},
     "output_type": "execute_result"
    }
   ],
   "source": [
    "lista_a +lista_a"
   ]
  },
  {
   "cell_type": "code",
   "execution_count": 60,
   "metadata": {},
   "outputs": [
    {
     "data": {
      "text/plain": [
       "'pan leche 100 1235 True 234.3pan leche 100 1235 True 234.3'"
      ]
     },
     "execution_count": 60,
     "metadata": {},
     "output_type": "execute_result"
    }
   ],
   "source": [
    "string_a + string_a"
   ]
  },
  {
   "cell_type": "code",
   "execution_count": 61,
   "metadata": {},
   "outputs": [
    {
     "data": {
      "text/plain": [
       "['pan',\n",
       " 'leche',\n",
       " 100,\n",
       " 1234,\n",
       " True,\n",
       " 234.3,\n",
       " 'pan',\n",
       " 'leche',\n",
       " 100,\n",
       " 1234,\n",
       " True,\n",
       " 234.3]"
      ]
     },
     "execution_count": 61,
     "metadata": {},
     "output_type": "execute_result"
    }
   ],
   "source": [
    "lista_a + list(tupla_a)"
   ]
  },
  {
   "cell_type": "code",
   "execution_count": 62,
   "metadata": {},
   "outputs": [
    {
     "data": {
      "text/plain": [
       "('pan',\n",
       " 'leche',\n",
       " 100,\n",
       " 1234,\n",
       " True,\n",
       " 234.3,\n",
       " 'pan',\n",
       " 'leche',\n",
       " 100,\n",
       " 1234,\n",
       " True,\n",
       " 234.3)"
      ]
     },
     "execution_count": 62,
     "metadata": {},
     "output_type": "execute_result"
    }
   ],
   "source": [
    "tuple (lista_a) + tupla_a"
   ]
  },
  {
   "cell_type": "markdown",
   "metadata": {},
   "source": [
    "# Elemento i de Y, empezando por 0\n",
    "\n",
    "Ej. Y[i]"
   ]
  },
  {
   "cell_type": "code",
   "execution_count": 63,
   "metadata": {},
   "outputs": [
    {
     "data": {
      "text/plain": [
       "'pan'"
      ]
     },
     "execution_count": 63,
     "metadata": {},
     "output_type": "execute_result"
    }
   ],
   "source": [
    "tupla_a[0]"
   ]
  },
  {
   "cell_type": "code",
   "execution_count": 64,
   "metadata": {},
   "outputs": [
    {
     "data": {
      "text/plain": [
       "100"
      ]
     },
     "execution_count": 64,
     "metadata": {},
     "output_type": "execute_result"
    }
   ],
   "source": [
    "lista_a[2]"
   ]
  },
  {
   "cell_type": "code",
   "execution_count": 65,
   "metadata": {},
   "outputs": [
    {
     "data": {
      "text/plain": [
       "'3'"
      ]
     },
     "execution_count": 65,
     "metadata": {},
     "output_type": "execute_result"
    }
   ],
   "source": [
    "string_a[-1]"
   ]
  },
  {
   "cell_type": "markdown",
   "metadata": {},
   "source": [
    "# Porción de la secuencia Y desde i hasta j (no inclusive)\n",
    "\n",
    "Ej. Y[i:j]"
   ]
  },
  {
   "cell_type": "code",
   "execution_count": 66,
   "metadata": {},
   "outputs": [
    {
     "data": {
      "text/plain": [
       "(100, 1234, True, 234.3)"
      ]
     },
     "execution_count": 66,
     "metadata": {},
     "output_type": "execute_result"
    }
   ],
   "source": [
    "tupla_a[2:6]"
   ]
  },
  {
   "cell_type": "markdown",
   "metadata": {},
   "source": [
    "# Porción de la secuencia Y desde i hasta j (no inclusive), con paso k\n",
    "\n",
    "Ej. Y[i:j:k]"
   ]
  },
  {
   "cell_type": "code",
   "execution_count": 67,
   "metadata": {},
   "outputs": [
    {
     "name": "stdout",
     "output_type": "stream",
     "text": [
      "('pan', 'leche', 100, 1234, True, 234.3)\n"
     ]
    },
    {
     "data": {
      "text/plain": [
       "('pan', 100, True)"
      ]
     },
     "execution_count": 67,
     "metadata": {},
     "output_type": "execute_result"
    }
   ],
   "source": [
    "print (tupla_a)\n",
    "tupla_a[0:6:2]"
   ]
  },
  {
   "cell_type": "code",
   "execution_count": 72,
   "metadata": {},
   "outputs": [
    {
     "name": "stdout",
     "output_type": "stream",
     "text": [
      "['pan', 'leche', 100, 1234, True, 234.3]\n"
     ]
    },
    {
     "data": {
      "text/plain": [
       "['pan', 100, True]"
      ]
     },
     "execution_count": 72,
     "metadata": {},
     "output_type": "execute_result"
    }
   ],
   "source": [
    "print (lista_a)\n",
    "lista_a[0:6:2]"
   ]
  },
  {
   "cell_type": "code",
   "execution_count": 71,
   "metadata": {},
   "outputs": [
    {
     "name": "stdout",
     "output_type": "stream",
     "text": [
      "pan leche 100 1235 True 234.3\n"
     ]
    },
    {
     "data": {
      "text/plain": [
       "'pnl'"
      ]
     },
     "execution_count": 71,
     "metadata": {},
     "output_type": "execute_result"
    }
   ],
   "source": [
    "print (string_a)\n",
    "string_a[0:6:2]"
   ]
  },
  {
   "cell_type": "markdown",
   "metadata": {},
   "source": [
    "# Copiar datos"
   ]
  },
  {
   "cell_type": "code",
   "execution_count": 73,
   "metadata": {},
   "outputs": [],
   "source": [
    "x=5\n",
    "y=x"
   ]
  },
  {
   "cell_type": "code",
   "execution_count": 74,
   "metadata": {},
   "outputs": [
    {
     "name": "stdout",
     "output_type": "stream",
     "text": [
      "5 6\n"
     ]
    }
   ],
   "source": [
    "y=6\n",
    "print(x,y)"
   ]
  },
  {
   "cell_type": "code",
   "execution_count": 75,
   "metadata": {},
   "outputs": [],
   "source": [
    "x=(5,6,7)\n",
    "y=x"
   ]
  },
  {
   "cell_type": "code",
   "execution_count": 76,
   "metadata": {},
   "outputs": [
    {
     "name": "stdout",
     "output_type": "stream",
     "text": [
      "(5, 6, 7) (7, 8)\n"
     ]
    }
   ],
   "source": [
    "y= (7,8)\n",
    "print (x,y)"
   ]
  },
  {
   "cell_type": "code",
   "execution_count": 80,
   "metadata": {},
   "outputs": [
    {
     "name": "stdout",
     "output_type": "stream",
     "text": [
      "2139293379776\n",
      "2139293379776\n",
      "2139279406208\n"
     ]
    }
   ],
   "source": [
    "x = [8,9,10]\n",
    "print(id(x))\n",
    "y=x #.copy() # [:]\n",
    "print(id(y))\n",
    "y=x.copy() \n",
    "print(id(y))"
   ]
  },
  {
   "cell_type": "code",
   "execution_count": 81,
   "metadata": {},
   "outputs": [
    {
     "name": "stdout",
     "output_type": "stream",
     "text": [
      "[8, 9, 10] [11, 9, 10]\n"
     ]
    }
   ],
   "source": [
    "y[0]= 11\n",
    "print (x,y)"
   ]
  },
  {
   "cell_type": "markdown",
   "metadata": {},
   "source": [
    "# Diccionarios\n",
    "\n",
    "- Se encierra el listado de valores entre llaves **{}**, \n",
    "- Las parejas de clave y valor se separan con comas\n",
    "- La clave y el valor se separan con **:**.\n",
    "\n",
    "Ej. {Clave1:valor1, Clave2:valor2,...}\n",
    "\n",
    "## <font color = \"red\"> No puede haber dos keys iguales, aunque sí dos valores iguales. </font> "
   ]
  },
  {
   "cell_type": "code",
   "execution_count": 82,
   "metadata": {},
   "outputs": [
    {
     "data": {
      "text/plain": [
       "(set, dict, tuple, list)"
      ]
     },
     "execution_count": 82,
     "metadata": {},
     "output_type": "execute_result"
    }
   ],
   "source": [
    "type ( {1,2,4,6,4}), type({\"a\":1,\"b\":2,\"c\":3}) ,type ( (1,2,4,6,4) ),type ( [1,2,4,6,4] )"
   ]
  },
  {
   "cell_type": "code",
   "execution_count": 83,
   "metadata": {},
   "outputs": [],
   "source": [
    "diccionario_a = {\"Pedro\":100,\"Juan\":300,\"Carlos\":2000,\"Diego\":1000}"
   ]
  },
  {
   "cell_type": "code",
   "execution_count": 84,
   "metadata": {},
   "outputs": [
    {
     "data": {
      "text/plain": [
       "100"
      ]
     },
     "execution_count": 84,
     "metadata": {},
     "output_type": "execute_result"
    }
   ],
   "source": [
    "diccionario_a[\"Pedro\"]"
   ]
  },
  {
   "cell_type": "code",
   "execution_count": 85,
   "metadata": {},
   "outputs": [
    {
     "ename": "KeyError",
     "evalue": "0",
     "output_type": "error",
     "traceback": [
      "\u001b[1;31m---------------------------------------------------------------------------\u001b[0m",
      "\u001b[1;31mKeyError\u001b[0m                                  Traceback (most recent call last)",
      "Cell \u001b[1;32mIn[85], line 1\u001b[0m\n\u001b[1;32m----> 1\u001b[0m diccionario_a[\u001b[38;5;241m0\u001b[39m]\n",
      "\u001b[1;31mKeyError\u001b[0m: 0"
     ]
    }
   ],
   "source": [
    "diccionario_a[0]"
   ]
  },
  {
   "cell_type": "code",
   "execution_count": 86,
   "metadata": {},
   "outputs": [],
   "source": [
    "diccionario_b={}"
   ]
  },
  {
   "cell_type": "code",
   "execution_count": 87,
   "metadata": {},
   "outputs": [
    {
     "data": {
      "text/plain": [
       "{}"
      ]
     },
     "execution_count": 87,
     "metadata": {},
     "output_type": "execute_result"
    }
   ],
   "source": [
    "diccionario_b"
   ]
  },
  {
   "cell_type": "code",
   "execution_count": 88,
   "metadata": {},
   "outputs": [
    {
     "name": "stdout",
     "output_type": "stream",
     "text": [
      "<class 'dict'>\n"
     ]
    }
   ],
   "source": [
    "print(type(diccionario_b))"
   ]
  },
  {
   "cell_type": "code",
   "execution_count": 90,
   "metadata": {},
   "outputs": [
    {
     "name": "stdout",
     "output_type": "stream",
     "text": [
      "{'b': 1, 'c': 120}\n"
     ]
    }
   ],
   "source": [
    "diccionario_b[\"b\"] =1 \n",
    "diccionario_b[\"c\"] =120\n",
    "print(diccionario_b)"
   ]
  },
  {
   "cell_type": "code",
   "execution_count": 91,
   "metadata": {},
   "outputs": [
    {
     "data": {
      "text/plain": [
       "2"
      ]
     },
     "execution_count": 91,
     "metadata": {},
     "output_type": "execute_result"
    }
   ],
   "source": [
    "len(diccionario_b)"
   ]
  },
  {
   "cell_type": "code",
   "execution_count": 93,
   "metadata": {},
   "outputs": [
    {
     "name": "stdout",
     "output_type": "stream",
     "text": [
      "{'b': 1, 'c': 120, 'd': 120}\n"
     ]
    }
   ],
   "source": [
    "diccionario_b[\"d\"] = 120\n",
    "print(diccionario_b)"
   ]
  },
  {
   "cell_type": "code",
   "execution_count": 94,
   "metadata": {},
   "outputs": [
    {
     "name": "stdout",
     "output_type": "stream",
     "text": [
      "{'b': 1, 'c': 120, 'd': 120}\n"
     ]
    }
   ],
   "source": [
    "print(diccionario_b)"
   ]
  },
  {
   "cell_type": "code",
   "execution_count": 96,
   "metadata": {},
   "outputs": [
    {
     "name": "stdout",
     "output_type": "stream",
     "text": [
      "{'Pedro': None, 'Juan': None, 'Carlos': None, 'Diego': None}\n"
     ]
    }
   ],
   "source": [
    "nombres = [\"Pedro\",\"Juan\",\"Carlos\",\"Diego\"]\n",
    "diccionario1 = dict.fromkeys(nombres)\n",
    "\n",
    "print (diccionario1)"
   ]
  },
  {
   "cell_type": "code",
   "execution_count": null,
   "metadata": {},
   "outputs": [],
   "source": []
  },
  {
   "cell_type": "code",
   "execution_count": null,
   "metadata": {},
   "outputs": [],
   "source": []
  },
  {
   "cell_type": "code",
   "execution_count": null,
   "metadata": {},
   "outputs": [],
   "source": []
  },
  {
   "cell_type": "markdown",
   "metadata": {},
   "source": [
    "# <font color = \"blue\"> NOTA </font>\n",
    "El algoritmo que usa Python internamente para buscar un elemento en un diccionario es muy distinto que el que utiliza para buscar en listas.\n",
    "\n",
    "**Para buscar en las listas**, se utiliza un **algoritmos de comparación** que tarda cada vez más a medida que la lista se hace más larga. \n",
    "\n",
    "En cambio, para **buscar en diccionarios** se utiliza un **algoritmo llamado hash**, que se basa en realizar un cálculo numérico sobre la clave del elemento, y tiene una propiedad muy interesante: **sin importar cuántos elementos tenga el diccionario, el tiempo de búsqueda es siempre aproximadamente igual.**\n",
    "\n",
    "Este algoritmo de hash es también la razón por la cual las claves de los diccionarios deben ser inmutables, ya que la operación hecha sobre las claves debe dar siempre el mismo resultado, y si se utilizara una variable mutable esto no sería posible."
   ]
  },
  {
   "cell_type": "markdown",
   "metadata": {},
   "source": [
    "# Conjuntos\n",
    "\n",
    "Python también incluye un tipo de dato para conjuntos. Un conjunto es una colección no ordenada y sin elementos repetidos. Los usos básicos de éstos incluyen verificación de pertenencia y eliminación de entradas duplicadas. Los conjuntos también soportan operaciones matemáticas como la unión, intersección, diferencia, y diferencia simétrica.\n",
    "\n",
    "### Las llaves o la función set() pueden usarse para crear conjuntos.\n",
    "\n",
    "### <font color = \"red\"> Notá que para crear un conjunto vacío tenés que usar set(), no {}; esto último crea un diccionario vacío </font>"
   ]
  },
  {
   "cell_type": "code",
   "execution_count": 97,
   "metadata": {},
   "outputs": [
    {
     "data": {
      "text/plain": [
       "(1, 'a', 2, 'z', 'b', 2)"
      ]
     },
     "execution_count": 97,
     "metadata": {},
     "output_type": "execute_result"
    }
   ],
   "source": [
    "set_a = 1,\"a\",2,\"z\",\"b\",2\n",
    "set_a"
   ]
  },
  {
   "cell_type": "code",
   "execution_count": 98,
   "metadata": {},
   "outputs": [
    {
     "data": {
      "text/plain": [
       "('pan', 'leche', 100, 1234, True, 234.3, 'pan', 'leche')"
      ]
     },
     "execution_count": 98,
     "metadata": {},
     "output_type": "execute_result"
    }
   ],
   "source": [
    "set_b = 'pan', 'leche', 100, 1234, True, 234.3,\"pan\",\"leche\"\n",
    "set_b"
   ]
  },
  {
   "cell_type": "code",
   "execution_count": 99,
   "metadata": {},
   "outputs": [
    {
     "data": {
      "text/plain": [
       "('pan', 'leche', 100, 1234, True, 234.3, 'pan', 'leche')"
      ]
     },
     "execution_count": 99,
     "metadata": {},
     "output_type": "execute_result"
    }
   ],
   "source": [
    "set_c = 'pan', 'leche', 100, 1234, True, 234.3,\"pan\",\"leche\"\n",
    "set_c"
   ]
  },
  {
   "cell_type": "code",
   "execution_count": 106,
   "metadata": {},
   "outputs": [
    {
     "data": {
      "text/plain": [
       "{100, 1234, 234.3, True, 'leche', 'manzana', 'naranja', 'pan', 'pera'}"
      ]
     },
     "execution_count": 106,
     "metadata": {},
     "output_type": "execute_result"
    }
   ],
   "source": [
    "set_a = {'pan', 'leche', 100, 1234, True, 234.3,\"pan\",\"leche\",'banana'}\n",
    "set_b = {'pan', 'leche', 100, 1234, True, 234.3,\"pan\",\"leche\",'pera', 'manzana', 'naranja'}\n",
    "set_b"
   ]
  },
  {
   "cell_type": "code",
   "execution_count": 101,
   "metadata": {},
   "outputs": [],
   "source": [
    "A= {1,2,3,4}\n",
    "B= {3,4,5,6}"
   ]
  },
  {
   "cell_type": "code",
   "execution_count": 102,
   "metadata": {},
   "outputs": [
    {
     "data": {
      "text/plain": [
       "{1, 2}"
      ]
     },
     "execution_count": 102,
     "metadata": {},
     "output_type": "execute_result"
    }
   ],
   "source": [
    "A-B"
   ]
  },
  {
   "cell_type": "code",
   "execution_count": 103,
   "metadata": {},
   "outputs": [
    {
     "data": {
      "text/plain": [
       "{3, 4}"
      ]
     },
     "execution_count": 103,
     "metadata": {},
     "output_type": "execute_result"
    }
   ],
   "source": [
    "A & B"
   ]
  },
  {
   "cell_type": "code",
   "execution_count": 104,
   "metadata": {},
   "outputs": [
    {
     "data": {
      "text/plain": [
       "{1, 2, 3, 4, 5, 6}"
      ]
     },
     "execution_count": 104,
     "metadata": {},
     "output_type": "execute_result"
    }
   ],
   "source": [
    "A | B"
   ]
  },
  {
   "cell_type": "code",
   "execution_count": 105,
   "metadata": {},
   "outputs": [
    {
     "data": {
      "text/plain": [
       "{1, 2, 5, 6}"
      ]
     },
     "execution_count": 105,
     "metadata": {},
     "output_type": "execute_result"
    }
   ],
   "source": [
    "A ^ B"
   ]
  },
  {
   "cell_type": "code",
   "execution_count": null,
   "metadata": {},
   "outputs": [],
   "source": [
    "print (set_a)\n",
    "print (set_b)"
   ]
  },
  {
   "cell_type": "code",
   "execution_count": null,
   "metadata": {},
   "outputs": [],
   "source": [
    "set_b-set_a # elementos en set_b pero no en set_a"
   ]
  },
  {
   "cell_type": "code",
   "execution_count": null,
   "metadata": {},
   "outputs": [],
   "source": [
    "set_b | set_a # elementos en b o en a"
   ]
  },
  {
   "cell_type": "code",
   "execution_count": null,
   "metadata": {},
   "outputs": [],
   "source": [
    "set_b & set_a # elementos en b y en a"
   ]
  },
  {
   "cell_type": "code",
   "execution_count": null,
   "metadata": {},
   "outputs": [],
   "source": [
    "set_b ^ set_a # Elementos en a o b pero no en ambos"
   ]
  },
  {
   "cell_type": "code",
   "execution_count": null,
   "metadata": {},
   "outputs": [],
   "source": [
    "set_b[1] #Es una colección no ordenada "
   ]
  },
  {
   "cell_type": "code",
   "execution_count": null,
   "metadata": {},
   "outputs": [],
   "source": [
    "for i in A:\n",
    "    print (A)"
   ]
  },
  {
   "cell_type": "code",
   "execution_count": null,
   "metadata": {},
   "outputs": [],
   "source": [
    "for i in {1,6,7,8}:\n",
    "    print (i)"
   ]
  },
  {
   "cell_type": "code",
   "execution_count": null,
   "metadata": {
    "scrolled": true
   },
   "outputs": [],
   "source": [
    "for i in set_b:\n",
    "    print (i)"
   ]
  },
  {
   "cell_type": "code",
   "execution_count": null,
   "metadata": {},
   "outputs": [],
   "source": [
    "len(set_b)"
   ]
  },
  {
   "cell_type": "markdown",
   "metadata": {},
   "source": [
    "# Técnicas de iteración\n"
   ]
  },
  {
   "cell_type": "code",
   "execution_count": 112,
   "metadata": {},
   "outputs": [
    {
     "ename": "SyntaxError",
     "evalue": "expected ':' (2299412164.py, line 1)",
     "output_type": "error",
     "traceback": [
      "\u001b[1;36m  Cell \u001b[1;32mIn[112], line 1\u001b[1;36m\u001b[0m\n\u001b[1;33m    for i, v in {\"leche\",'pera', 'manzana', 'naranja'}\u001b[0m\n\u001b[1;37m                                                      ^\u001b[0m\n\u001b[1;31mSyntaxError\u001b[0m\u001b[1;31m:\u001b[0m expected ':'\n"
     ]
    }
   ],
   "source": [
    "for i, v in {\"leche\",'pera', 'manzana', 'naranja'}\n",
    "    print(i, v) "
   ]
  },
  {
   "cell_type": "code",
   "execution_count": 111,
   "metadata": {},
   "outputs": [
    {
     "name": "stdout",
     "output_type": "stream",
     "text": [
      "a 4\n",
      "b 3\n",
      "c 2\n",
      "d 1\n"
     ]
    }
   ],
   "source": [
    "dic_a = {\"a\":4,\"b\":3,\"c\":2,\"d\":1}\n",
    "for i in dic_a:\n",
    "    print (i,dic_a[i])"
   ]
  },
  {
   "cell_type": "code",
   "execution_count": 110,
   "metadata": {},
   "outputs": [
    {
     "name": "stdout",
     "output_type": "stream",
     "text": [
      "a 4\n",
      "b 3\n",
      "c 2\n",
      "d 1\n"
     ]
    }
   ],
   "source": [
    "dic_a = {\"a\":4,\"b\":3,\"c\":2,\"d\":1}\n",
    "for k, v in dic_a.items():\n",
    "    print(k, v)"
   ]
  },
  {
   "cell_type": "code",
   "execution_count": null,
   "metadata": {},
   "outputs": [],
   "source": []
  },
  {
   "cell_type": "markdown",
   "metadata": {},
   "source": [
    "Para iterar sobre dos o más secuencias al mismo tiempo, los valores pueden emparejarse con la función **zip()**."
   ]
  },
  {
   "cell_type": "code",
   "execution_count": 113,
   "metadata": {},
   "outputs": [
    {
     "name": "stdout",
     "output_type": "stream",
     "text": [
      "Pedro100\n",
      "Juan300\n",
      "Carlos2000\n",
      "Diego1000\n"
     ]
    }
   ],
   "source": [
    "nombres = [\"Pedro\",\"Juan\",\"Carlos\",\"Diego\"]\n",
    "valores = (100,300,2000,1000,45,234)\n",
    "\n",
    "for n, v in zip(nombres, valores):\n",
    "    print (n+str(v))"
   ]
  },
  {
   "cell_type": "code",
   "execution_count": 114,
   "metadata": {},
   "outputs": [
    {
     "data": {
      "text/plain": [
       "[('Pedro', 100), ('Juan', 300), ('Carlos', 2000), ('Diego', 1000)]"
      ]
     },
     "execution_count": 114,
     "metadata": {},
     "output_type": "execute_result"
    }
   ],
   "source": [
    "list(zip(nombres, valores))"
   ]
  },
  {
   "cell_type": "code",
   "execution_count": 115,
   "metadata": {},
   "outputs": [
    {
     "name": "stdout",
     "output_type": "stream",
     "text": [
      "(['Pedro', 'Juan', 'Carlos', 'Diego'], (100, 300, 2000, 1000))\n"
     ]
    }
   ],
   "source": [
    "nombres = [\"Pedro\",\"Juan\",\"Carlos\",\"Diego\"]\n",
    "valores = (100,300,2000,1000)\n",
    "\n",
    "diccionario1 = nombres, valores\n",
    "print (diccionario1)"
   ]
  },
  {
   "cell_type": "code",
   "execution_count": 116,
   "metadata": {},
   "outputs": [
    {
     "data": {
      "text/plain": [
       "[2, 3, 4, 5]"
      ]
     },
     "execution_count": 116,
     "metadata": {},
     "output_type": "execute_result"
    }
   ],
   "source": [
    "a= list(range(2,5+1))\n",
    "a"
   ]
  },
  {
   "cell_type": "code",
   "execution_count": 117,
   "metadata": {},
   "outputs": [
    {
     "name": "stdout",
     "output_type": "stream",
     "text": [
      "14\n"
     ]
    }
   ],
   "source": [
    "tmp=0\n",
    "for var in a:\n",
    "    \n",
    "    tmp= var+tmp\n",
    "    #tmp= tmp+ var\n",
    "    #tmp += var\n",
    "\n",
    "print (tmp)"
   ]
  },
  {
   "cell_type": "code",
   "execution_count": 119,
   "metadata": {},
   "outputs": [
    {
     "name": "stdout",
     "output_type": "stream",
     "text": [
      "(5, 7, 9)\n"
     ]
    }
   ],
   "source": [
    "ta = (1,2,3,7)\n",
    "tb = (4,5,6)\n",
    "\n",
    "L=[]\n",
    "for a,b in zip(ta,tb):\n",
    "    L.append(a+b)\n",
    "\n",
    "print (tuple (L) )"
   ]
  },
  {
   "cell_type": "markdown",
   "metadata": {},
   "source": [
    "# Tarea :\n",
    "\n",
    "- Diseñar un programa que sume dos tuplas de números. \n",
    "- Diseñar un programa que pida los valores de dos vectores, y realice el producto punto de estos vectores.  \n",
    "- Diseñar un programa que pida una nombre y que cambie las vocales por números (Encriptación). Ej. Nombre: Michel y lo cambie a M4ch3l. Utilizando diccionarios. \n"
   ]
  },
  {
   "cell_type": "code",
   "execution_count": null,
   "metadata": {},
   "outputs": [],
   "source": []
  },
  {
   "cell_type": "code",
   "execution_count": null,
   "metadata": {},
   "outputs": [],
   "source": []
  }
 ],
 "metadata": {
  "hide_input": false,
  "kernelspec": {
   "display_name": "base",
   "language": "python",
   "name": "python3"
  },
  "language_info": {
   "codemirror_mode": {
    "name": "ipython",
    "version": 3
   },
   "file_extension": ".py",
   "mimetype": "text/x-python",
   "name": "python",
   "nbconvert_exporter": "python",
   "pygments_lexer": "ipython3",
   "version": "3.13.5"
  },
  "toc": {
   "base_numbering": 1,
   "nav_menu": {},
   "number_sections": true,
   "sideBar": true,
   "skip_h1_title": false,
   "title_cell": "Table of Contents",
   "title_sidebar": "Contents",
   "toc_cell": false,
   "toc_position": {},
   "toc_section_display": "block",
   "toc_window_display": false
  },
  "varInspector": {
   "cols": {
    "lenName": 16,
    "lenType": 16,
    "lenVar": 40
   },
   "kernels_config": {
    "python": {
     "delete_cmd_postfix": "",
     "delete_cmd_prefix": "del ",
     "library": "var_list.py",
     "varRefreshCmd": "print(var_dic_list())"
    },
    "r": {
     "delete_cmd_postfix": ") ",
     "delete_cmd_prefix": "rm(",
     "library": "var_list.r",
     "varRefreshCmd": "cat(var_dic_list()) "
    }
   },
   "types_to_exclude": [
    "module",
    "function",
    "builtin_function_or_method",
    "instance",
    "_Feature"
   ],
   "window_display": false
  }
 },
 "nbformat": 4,
 "nbformat_minor": 1
}
