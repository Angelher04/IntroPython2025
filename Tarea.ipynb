{
 "cells": [
  {
   "cell_type": "markdown",
   "id": "3e69c070",
   "metadata": {},
   "source": [
    "# Ejercicios de Introducción a Python\n",
    "\n",
    "## Tipos de Datos Básicos y Estructuras de Control\n",
    "\n",
    "### Ejercicio 1: Calculadora de Propinas\n",
    "\n",
    "Escribe un programa que solicite al usuario el monto de una cuenta (float) y el porcentaje de propina que desea dar (int). El programa debe calcular y mostrar la propina y el total a pagar.\n",
    "\n",
    "**Ejemplo de salida:**\n",
    "\n",
    "```\n",
    "Ingresa el monto de la cuenta: 150.75\n",
    "Ingresa el porcentaje de propina: 15\n",
    "Propina: $22.61\n",
    "Total a pagar: $173.36"
   ]
  },
  {
   "cell_type": "code",
   "execution_count": 5,
   "id": "1eeb1cea",
   "metadata": {},
   "outputs": [
    {
     "name": "stdout",
     "output_type": "stream",
     "text": [
      "Propina:  22.612499999999983 $\n",
      "Total a pagar:  173.36249999999998 $\n"
     ]
    }
   ],
   "source": [
    "x=float (input(\"Pago: \"))\n",
    "porcentaje=float(input(\"Propina: \"))\n",
    "prpina=porcentaje/100\n",
    "total=x*(1+prpina)\n",
    "propina=total-x\n",
    "print(\"Propina: \", propina,\"$\")\n",
    "print(\"Total a pagar: \", total,\"$\")"
   ]
  },
  {
   "cell_type": "markdown",
   "id": "f6a8355a",
   "metadata": {},
   "source": [
    "### Ejercicio 2: Contador de Vocales\n",
    "\n",
    "Crea un programa que pida una palabra al usuario (str) y use un ciclo `for` para contar cuántas vocales (a, e, i, o, u) contiene la palabra. Considera tanto mayúsculas como minúsculas.\n",
    "\n",
    "**Ejemplo de salida:**\n",
    "\n",
    "```\n",
    "Ingresa una palabra: Python\n",
    "La palabra \"Python\" tiene 1 vocal(es)\n",
    "```\n",
    "\n",
    "---\n"
   ]
  },
  {
   "cell_type": "code",
   "execution_count": 7,
   "id": "18d41220",
   "metadata": {},
   "outputs": [
    {
     "name": "stdout",
     "output_type": "stream",
     "text": [
      "Cantidad de vocales:  6\n"
     ]
    }
   ],
   "source": [
    "palabra=str(input(\"Ingrese una palabra: \"))\n",
    "x=0\n",
    "for letra in palabra:\n",
    "    if letra in \"aeiouAEIOU\":\n",
    "        x=x+1\n",
    "\n",
    "print(\"Cantidad de vocales: \", x)"
   ]
  },
  {
   "cell_type": "markdown",
   "id": "eaa7a121",
   "metadata": {},
   "source": [
    "### Ejercicio 3: Tabla de Multiplicar\n",
    "\n",
    "Solicita al usuario un número entero (int) y usa un ciclo `for` para mostrar su tabla de multiplicar del 1 al 10.\n",
    "\n",
    "**Ejemplo de salida:**\n",
    "\n",
    "```\n",
    "Ingresa un número: 7\n",
    "7 x 1 = 7\n",
    "7 x 2 = 14\n",
    "...\n",
    "7 x 10 = 70\n",
    "```\n",
    "\n",
    "---"
   ]
  },
  {
   "cell_type": "code",
   "execution_count": 9,
   "id": "0b85e390",
   "metadata": {},
   "outputs": [
    {
     "name": "stdout",
     "output_type": "stream",
     "text": [
      "9 x 1 = 9\n",
      "9 x 2 = 18\n",
      "9 x 3 = 27\n",
      "9 x 4 = 36\n",
      "9 x 5 = 45\n",
      "9 x 6 = 54\n",
      "9 x 7 = 63\n",
      "9 x 8 = 72\n",
      "9 x 9 = 81\n",
      "9 x 10 = 90\n"
     ]
    }
   ],
   "source": [
    "x=int(input(\"Ingrese un número: \"))\n",
    "for i in range(1,11):\n",
    "    print(x,\"x\",i,\"=\",x*i)\n"
   ]
  },
  {
   "cell_type": "markdown",
   "id": "86aa191f",
   "metadata": {},
   "source": [
    "### Ejercicio 4: Validador de Contraseña Simple\n",
    "\n",
    "Escribe un programa que pida una contraseña al usuario y use un ciclo `while` para seguir pidiendo la contraseña hasta que tenga al menos 8 caracteres. Al final, muestra la longitud de la contraseña aceptada.\n",
    "\n",
    "**Ejemplo de salida:**\n",
    "\n",
    "```\n",
    "Ingresa tu contraseña: 123\n",
    "Muy corta. Ingresa tu contraseña: 12345678\n",
    "Contraseña aceptada. Longitud: 8 caracteres\n",
    "```\n",
    "\n",
    "---"
   ]
  },
  {
   "cell_type": "code",
   "execution_count": 11,
   "id": "e8ecff28",
   "metadata": {},
   "outputs": [
    {
     "name": "stdout",
     "output_type": "stream",
     "text": [
      "Aceptada  8  caracteres\n"
     ]
    }
   ],
   "source": [
    "contra=input(\"Ingrese una contraseña: \")\n",
    "while len(contra)<8:\n",
    "    contra=input(\"La contraseña debe tener al menos 8 caracteres. Ingrese nuevamente: \")\n",
    "\n",
    "x=len(contra)\n",
    "print(\"Aceptada \", x, \" caracteres\")"
   ]
  },
  {
   "cell_type": "markdown",
   "id": "175b77be",
   "metadata": {},
   "source": [
    "### Ejercicio 5: Suma de Números Pares\n",
    "\n",
    "Pide al usuario un número entero (int) y usa un ciclo `for` para calcular la suma de todos los números pares desde 2 hasta ese número (inclusive).\n",
    "\n",
    "Ingresa un número: 10\n",
    "La suma de números pares desde 2 hasta 10 es: 30\n",
    "(2 + 4 + 6 + 8 + 10 = 30)\n",
    "```Ingresa un número: 10\n",
    "La suma de números pares desde 2 hasta 10 es: 30\n",
    "(2 + 4 + 6 + 8 + 10 = 30)\n",
    "```\n",
    "```\n",
    "\n",
    "---"
   ]
  },
  {
   "cell_type": "code",
   "execution_count": null,
   "id": "6f98d54b",
   "metadata": {},
   "outputs": [
    {
     "name": "stdout",
     "output_type": "stream",
     "text": [
      "La suma de números pares desde 2 hasta 10 es: 30\n",
      "(2 + 4 + 6 + 8 + 10 = 30)\n"
     ]
    }
   ],
   "source": [
    "x = int(input(\"Ingresa un número: \"))\n",
    "y = int(x / 2)\n",
    "d = 0\n",
    "pares = []\n",
    "\n",
    "for i in range(1, y + 1):\n",
    "    d += 2 * i\n",
    "    pares.append(str(2 * i))\n",
    "\n",
    "print(f\"La suma de números pares desde 2 hasta {x} es: {d}\")\n",
    "print(f\"({' + '.join(pares)} = {d})\")\n"
   ]
  },
  {
   "cell_type": "markdown",
   "id": "189f9c84",
   "metadata": {},
   "source": [
    "### Ejercicio 6: Generador de Patrones de Texto\n",
    "\n",
    "Solicita al usuario un carácter (str) y un número de filas (int). Usa ciclos `for` anidados para crear un patrón triangular donde cada fila tiene un carácter más que la anterior.\n",
    "\n",
    "**Ejemplo de salida:**\n",
    "\n",
    "```\n",
    "Ingresa un carácter: *\n",
    "Ingresa número de filas: 4\n",
    "*\n",
    "**\n",
    "***\n",
    "****\n",
    "```\n",
    "\n",
    "---"
   ]
  },
  {
   "cell_type": "code",
   "execution_count": 22,
   "id": "47a53cc4",
   "metadata": {},
   "outputs": [
    {
     "name": "stdout",
     "output_type": "stream",
     "text": [
      "a\n",
      "aa\n",
      "aaa\n",
      "aaaa\n",
      "aaaaa\n"
     ]
    }
   ],
   "source": [
    "x = input(\"Ingrese un caracter: \")\n",
    "y = int(input(\"Ingrese un numero: \"))\n",
    "\n",
    "for i in range(1, y + 1):\n",
    "    print(x * i)"
   ]
  },
  {
   "cell_type": "markdown",
   "id": "3e9ffa7e",
   "metadata": {},
   "source": [
    "### Ejercicio 7: Calculadora de Promedio con Validación\n",
    "\n",
    "Usa un ciclo `while` para pedir al usuario que ingrese números decimales (float) uno por uno. El programa debe terminar cuando el usuario ingrese -1. Al final, calcula y muestra el promedio de todos los números ingresados (sin contar el -1).\n",
    "\n",
    "**Ejemplo de salida:**\n",
    "\n",
    "```\n",
    "Ingresa un número (-1 para terminar): 8.5\n",
    "Ingresa un número (-1 para terminar): 9.2\n",
    "Ingresa un número (-1 para terminar): 7.8\n",
    "Ingresa un número (-1 para terminar): -1\n",
    "Promedio: 8.50\n",
    "```\n",
    "\n",
    "---"
   ]
  },
  {
   "cell_type": "code",
   "execution_count": 27,
   "id": "30115ed6",
   "metadata": {},
   "outputs": [
    {
     "name": "stdout",
     "output_type": "stream",
     "text": [
      "El promedio es:  8.5\n"
     ]
    }
   ],
   "source": [
    "x=float(input(\"Ingrese un número: \"))\n",
    "d=x\n",
    "cont=1\n",
    "while x != -1:\n",
    "    d += x\n",
    "    x = float(input(\"Ingrese un número: \"))\n",
    "    cont += 1\n",
    "prom=d/cont\n",
    "print(\"El promedio es: \", prom)\n",
    "\n",
    "\n"
   ]
  },
  {
   "cell_type": "markdown",
   "id": "bede5d68",
   "metadata": {},
   "source": [
    "### Ejercicio 8: Inversor de Palabras\n",
    "\n",
    "Pide al usuario una frase (str) y usa un ciclo `for` para mostrar cada palabra de la frase al revés. Las palabras se separan por espacios.\n",
    "\n",
    "**Ejemplo de salida:**\n",
    "\n",
    "```\n",
    "Ingresa una frase: Hola mundo Python\n",
    "aloH\n",
    "odnum\n",
    "nohtyP\n",
    "```\n",
    "\n",
    "---"
   ]
  },
  {
   "cell_type": "code",
   "execution_count": 28,
   "id": "e88e0e49",
   "metadata": {},
   "outputs": [
    {
     "name": "stdout",
     "output_type": "stream",
     "text": [
      "aloh\n",
      "odnum\n"
     ]
    }
   ],
   "source": [
    "frase = input(\"Ingresa una frase: \")\n",
    "\n",
    "for palabra in frase.split():\n",
    "    print(palabra[::-1])\n"
   ]
  },
  {
   "cell_type": "markdown",
   "id": "5c25c803",
   "metadata": {},
   "source": [
    "### Ejercicio 9: Juego de Adivinanza Simple\n",
    "\n",
    "Crea un juego donde el programa \"piensa\" en un número del 1 al 20 (puedes usar el número 15 fijo). Usa un ciclo `while` para que el usuario siga adivinando hasta que acierte. Cuenta y muestra el número de intentos.\n",
    "\n",
    "**Ejemplo de salida:**\n",
    "\n",
    "```\n",
    "Adivina el número (1-20): 10\n",
    "Muy bajo. Adivina el número (1-20): 18\n",
    "Muy alto. Adivina el número (1-20): 15\n",
    "¡Correcto! Lo adivinaste en 3 intentos.\n",
    "```\n",
    "\n",
    "---\n"
   ]
  },
  {
   "cell_type": "code",
   "execution_count": 30,
   "id": "b93bff7a",
   "metadata": {},
   "outputs": [
    {
     "name": "stdout",
     "output_type": "stream",
     "text": [
      "El número ingresado es menor.\n",
      "El número ingresado es mayor.\n",
      "El número ingresado es mayor.\n",
      "El número ingresado es mayor.\n",
      "El número ingresado es mayor.\n",
      "El número ingresado es menor.\n",
      "El número ingresado es menor.\n",
      "El número ingresado es menor.\n",
      "El número ingresado es menor.\n",
      "El número ingresado es mayor.\n",
      "¡Felicidades! Has adivinado el número 13.\n"
     ]
    }
   ],
   "source": [
    "x=13\n",
    "ad=int(input(\"Ingrese un número: \"))\n",
    "while ad != x:\n",
    "    if ad < x:\n",
    "        print(\"El número ingresado es menor.\")\n",
    "    else:\n",
    "        print(\"El número ingresado es mayor.\")\n",
    "    ad=int(input(\"Ingrese un número: \"))\n",
    "\n",
    "print(\"¡Felicidades! Has adivinado el número 13.\")\n"
   ]
  },
  {
   "cell_type": "markdown",
   "id": "01861bfd",
   "metadata": {},
   "source": [
    "\n",
    "### Ejercicio 10: Análisis de Texto\n",
    "\n",
    "Pide al usuario que ingrese un texto (str) y realiza el siguiente análisis usando ciclos:\n",
    "\n",
    "- Cuenta el número total de caracteres\n",
    "- Cuenta cuántos espacios hay\n",
    "- Cuenta cuántos dígitos numéricos hay\n",
    "- Muestra la primera y última letra del texto\n",
    "\n",
    "**Ejemplo de salida:**\n",
    "\n",
    "```\n",
    "Ingresa un texto: Hola mundo 123\n",
    "Análisis del texto:\n",
    "- Caracteres totales: 13\n",
    "- Espacios: 2\n",
    "- Dígitos numéricos: 3\n",
    "- Primera letra: H\n",
    "- Última letra: 3"
   ]
  },
  {
   "cell_type": "code",
   "execution_count": 31,
   "id": "22acf4fb",
   "metadata": {},
   "outputs": [
    {
     "name": "stdout",
     "output_type": "stream",
     "text": [
      "Análisis del texto:\n",
      "- Caracteres totales: 12\n",
      "- Espacios: 2\n",
      "- Dígitos numéricos: 3\n",
      "- Primera letra: c\n",
      "- Última letra: h\n"
     ]
    }
   ],
   "source": [
    "texto = input(\"Ingresa un texto: \")\n",
    "espacios = 0\n",
    "digitos = 0\n",
    "\n",
    "for c in texto:\n",
    "    if c == \" \":\n",
    "        espacios += 1\n",
    "    elif c.isdigit():\n",
    "        digitos += 1\n",
    "\n",
    "print(\"Análisis del texto:\")\n",
    "print(f\"- Caracteres totales: {len(texto)}\")\n",
    "print(f\"- Espacios: {espacios}\")\n",
    "print(f\"- Dígitos numéricos: {digitos}\")\n",
    "print(f\"- Primera letra: {texto[0]}\")\n",
    "print(f\"- Última letra: {texto[-1]}\")"
   ]
  }
 ],
 "metadata": {
  "kernelspec": {
   "display_name": "base",
   "language": "python",
   "name": "python3"
  },
  "language_info": {
   "codemirror_mode": {
    "name": "ipython",
    "version": 3
   },
   "file_extension": ".py",
   "mimetype": "text/x-python",
   "name": "python",
   "nbconvert_exporter": "python",
   "pygments_lexer": "ipython3",
   "version": "3.13.5"
  }
 },
 "nbformat": 4,
 "nbformat_minor": 5
}
