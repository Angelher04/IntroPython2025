{
 "cells": [
  {
   "cell_type": "markdown",
   "id": "0c737694",
   "metadata": {},
   "source": [
    "# Descripción de la tarea:\n",
    "\n",
    "Dada una matriz que representa un mapa con celdas libres (0) y obstáculos (1),\n",
    "\n",
    "diseña un algoritmo que encuentre la ruta más corta desde una celda de inicio\n",
    "\n",
    "hasta una celda objetivo. La ruta debe evitar los obstáculos y moverse solo\n",
    "\n",
    "en direcciones permitidas (por ejemplo, arriba, abajo, izquierda, derecha).\n",
    "\n",
    "El resultado debe ser una lista de coordenadas que representan el camino más corto."
   ]
  },
  {
   "cell_type": "code",
   "execution_count": 3,
   "id": "9f8343c1",
   "metadata": {},
   "outputs": [
    {
     "name": "stdout",
     "output_type": "stream",
     "text": [
      "Ruta encontrada:\n",
      "(0, 0)\n",
      "(1, 0)\n",
      "(2, 0)\n",
      "(2, 1)\n",
      "(2, 2)\n",
      "(3, 2)\n",
      "(4, 2)\n",
      "(4, 3)\n",
      "(4, 4)\n"
     ]
    }
   ],
   "source": [
    "\n",
    "laberinto = [\n",
    "    [0, 1, 0, 0, 0],\n",
    "    [0, 1, 0, 1, 0],\n",
    "    [0, 0, 0, 1, 0],\n",
    "    [1, 1, 0, 1, 0],\n",
    "    [0, 0, 0, 0, 0]\n",
    "]\n",
    "\n",
    "inicio = (0, 0)\n",
    "fin = (4, 4)\n",
    "\n",
    "\n",
    "mov = [(1,0), (0,1), (-1,0), (0,-1)]\n",
    "\n",
    "def buscar_camino(x, y, camino, visitados):\n",
    " \n",
    "    if (x, y) == fin:\n",
    "        return camino + [(x, y)]\n",
    "    \n",
    "  \n",
    "    visitados.append((x, y))\n",
    "    \n",
    "    \n",
    "    for dx, dy in mov:\n",
    "        nx, ny = x + dx, y + dy\n",
    "        \n",
    "     \n",
    "        if 0 <= nx < len(laberinto) and 0 <= ny < len(laberinto[0]):\n",
    "            if laberinto[nx][ny] == 0 and (nx, ny) not in visitados:\n",
    "                resultado = buscar_camino(nx, ny, camino + [(x, y)], visitados)\n",
    "                if resultado: \n",
    "                    return resultado\n",
    "    \n",
    "    return None \n",
    "ruta = buscar_camino(inicio[0], inicio[1], [], [])\n",
    "if ruta:\n",
    "    print(\"Ruta encontrada:\")\n",
    "    for paso in ruta:\n",
    "        print(paso)\n",
    "else:\n",
    "    print(\"No hay ruta posible.\")\n"
   ]
  }
 ],
 "metadata": {
  "kernelspec": {
   "display_name": "base",
   "language": "python",
   "name": "python3"
  },
  "language_info": {
   "codemirror_mode": {
    "name": "ipython",
    "version": 3
   },
   "file_extension": ".py",
   "mimetype": "text/x-python",
   "name": "python",
   "nbconvert_exporter": "python",
   "pygments_lexer": "ipython3",
   "version": "3.13.5"
  }
 },
 "nbformat": 4,
 "nbformat_minor": 5
}
